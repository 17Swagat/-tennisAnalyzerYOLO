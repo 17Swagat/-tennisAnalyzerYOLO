{
 "cells": [
  {
   "cell_type": "code",
   "execution_count": null,
   "metadata": {},
   "outputs": [
    {
     "name": "stdout",
     "output_type": "stream",
     "text": [
      "Requirement already satisfied: roboflow in c:\\users\\17swa\\appdata\\roaming\\python\\python310\\site-packages (1.1.61)\n",
      "Requirement already satisfied: certifi in e:\\@tennisanalyzeryolo\\tennisanalyzer_env\\lib\\site-packages (from roboflow) (2025.1.31)\n",
      "Requirement already satisfied: idna==3.7 in c:\\users\\17swa\\appdata\\roaming\\python\\python310\\site-packages (from roboflow) (3.7)\n",
      "Requirement already satisfied: cycler in e:\\@tennisanalyzeryolo\\tennisanalyzer_env\\lib\\site-packages (from roboflow) (0.12.1)\n",
      "Requirement already satisfied: kiwisolver>=1.3.1 in e:\\@tennisanalyzeryolo\\tennisanalyzer_env\\lib\\site-packages (from roboflow) (1.4.8)\n",
      "Requirement already satisfied: matplotlib in e:\\@tennisanalyzeryolo\\tennisanalyzer_env\\lib\\site-packages (from roboflow) (3.10.1)\n",
      "Requirement already satisfied: numpy>=1.18.5 in e:\\@tennisanalyzeryolo\\tennisanalyzer_env\\lib\\site-packages (from roboflow) (2.1.1)\n",
      "Requirement already satisfied: opencv-python-headless==4.10.0.84 in c:\\users\\17swa\\appdata\\roaming\\python\\python310\\site-packages (from roboflow) (4.10.0.84)\n",
      "Requirement already satisfied: Pillow>=7.1.2 in e:\\@tennisanalyzeryolo\\tennisanalyzer_env\\lib\\site-packages (from roboflow) (11.2.1)\n",
      "Requirement already satisfied: pillow-heif>=0.18.0 in e:\\@tennisanalyzeryolo\\tennisanalyzer_env\\lib\\site-packages (from roboflow) (0.22.0)\n",
      "Requirement already satisfied: python-dateutil in e:\\@tennisanalyzeryolo\\tennisanalyzer_env\\lib\\site-packages (from roboflow) (2.9.0.post0)\n",
      "Requirement already satisfied: python-dotenv in e:\\@tennisanalyzeryolo\\tennisanalyzer_env\\lib\\site-packages (from roboflow) (1.1.0)\n",
      "Requirement already satisfied: requests in e:\\@tennisanalyzeryolo\\tennisanalyzer_env\\lib\\site-packages (from roboflow) (2.32.3)\n",
      "Requirement already satisfied: six in e:\\@tennisanalyzeryolo\\tennisanalyzer_env\\lib\\site-packages (from roboflow) (1.17.0)\n",
      "Requirement already satisfied: urllib3>=1.26.6 in e:\\@tennisanalyzeryolo\\tennisanalyzer_env\\lib\\site-packages (from roboflow) (2.4.0)\n",
      "Requirement already satisfied: tqdm>=4.41.0 in e:\\@tennisanalyzeryolo\\tennisanalyzer_env\\lib\\site-packages (from roboflow) (4.67.1)\n",
      "Requirement already satisfied: PyYAML>=5.3.1 in e:\\@tennisanalyzeryolo\\tennisanalyzer_env\\lib\\site-packages (from roboflow) (6.0.2)\n",
      "Requirement already satisfied: requests-toolbelt in c:\\users\\17swa\\appdata\\roaming\\python\\python310\\site-packages (from roboflow) (1.0.0)\n",
      "Requirement already satisfied: filetype in e:\\@tennisanalyzeryolo\\tennisanalyzer_env\\lib\\site-packages (from roboflow) (1.2.0)\n",
      "Requirement already satisfied: colorama in c:\\users\\17swa\\appdata\\roaming\\python\\python310\\site-packages (from tqdm>=4.41.0->roboflow) (0.4.5)\n",
      "Requirement already satisfied: contourpy>=1.0.1 in e:\\@tennisanalyzeryolo\\tennisanalyzer_env\\lib\\site-packages (from matplotlib->roboflow) (1.3.2)\n",
      "Requirement already satisfied: fonttools>=4.22.0 in e:\\@tennisanalyzeryolo\\tennisanalyzer_env\\lib\\site-packages (from matplotlib->roboflow) (4.57.0)\n",
      "Requirement already satisfied: packaging>=20.0 in e:\\@tennisanalyzeryolo\\tennisanalyzer_env\\lib\\site-packages (from matplotlib->roboflow) (25.0)\n",
      "Requirement already satisfied: pyparsing>=2.3.1 in e:\\@tennisanalyzeryolo\\tennisanalyzer_env\\lib\\site-packages (from matplotlib->roboflow) (3.2.3)\n",
      "Requirement already satisfied: charset-normalizer<4,>=2 in e:\\@tennisanalyzeryolo\\tennisanalyzer_env\\lib\\site-packages (from requests->roboflow) (3.4.1)\n"
     ]
    }
   ],
   "source": [
    "!pip install ultralytics\n",
    "!pip install PyMuPDF\n",
    "!pip install --user roboflow"
   ]
  },
  {
   "cell_type": "code",
   "execution_count": 8,
   "metadata": {},
   "outputs": [
    {
     "name": "stdout",
     "output_type": "stream",
     "text": [
      "Requirement already satisfied: python-dotenv in e:\\@tennisanalyzeryolo\\tennisanalyzer_env\\lib\\site-packages (1.1.0)\n"
     ]
    }
   ],
   "source": [
    "# You need the `python-dotenv` package to load the environment variables from the .env file. \n",
    "# You can install it using pip:\n",
    "!pip install python-dotenv"
   ]
  },
  {
   "cell_type": "code",
   "execution_count": 21,
   "metadata": {},
   "outputs": [],
   "source": [
    "# 💝 IMPORTING CONFIGURATION FILES FOR THE API KEYS \n",
    "import sys\n",
    "import os\n",
    "sys.path.append(os.path.abspath('..'))\n",
    "import configs"
   ]
  },
  {
   "cell_type": "code",
   "execution_count": 22,
   "metadata": {},
   "outputs": [
    {
     "data": {
      "text/plain": [
       "'e:\\\\@tennisAnalyzerYOLO\\\\training'"
      ]
     },
     "execution_count": 22,
     "metadata": {},
     "output_type": "execute_result"
    }
   ],
   "source": [
    "os.getcwd() # \"Still in the notebook's directory\""
   ]
  },
  {
   "cell_type": "code",
   "execution_count": null,
   "metadata": {},
   "outputs": [],
   "source": [
    "# 📌 CODE TO GET THE DATASET FROM ROBOFLOW:=>\n",
    "from roboflow import Roboflow\n",
    "rf = Roboflow(api_key=f\"{configs.ROBOFLOW_API_KEY}\")\n",
    "project = rf.workspace(\"viren-dhanwani\").project(\"tennis-ball-detection\")\n",
    "version = project.version(6)\n",
    "dataset = version.download(\"yolov11\")"
   ]
  },
  {
   "cell_type": "code",
   "execution_count": null,
   "metadata": {},
   "outputs": [],
   "source": []
  },
  {
   "cell_type": "markdown",
   "metadata": {},
   "source": [
    "# **@OLD**"
   ]
  },
  {
   "cell_type": "code",
   "execution_count": 6,
   "metadata": {},
   "outputs": [],
   "source": [
    "import shutil # type: ignore\n",
    "import os"
   ]
  },
  {
   "cell_type": "code",
   "execution_count": 7,
   "metadata": {},
   "outputs": [
    {
     "data": {
      "text/plain": [
       "'tennis-ball-detection-6\\\\tennis-ball-detection-6\\\\train'"
      ]
     },
     "execution_count": 7,
     "metadata": {},
     "output_type": "execute_result"
    }
   ],
   "source": [
    "shutil.move(os.path.join('tennis-ball-detection-6', 'train'),\n",
    "            os.path.join('tennis-ball-detection-6',\n",
    "                         'tennis-ball-detection-6', 'train'))"
   ]
  },
  {
   "cell_type": "code",
   "execution_count": 8,
   "metadata": {},
   "outputs": [
    {
     "data": {
      "text/plain": [
       "'tennis-ball-detection-6\\\\tennis-ball-detection-6\\\\valid'"
      ]
     },
     "execution_count": 8,
     "metadata": {},
     "output_type": "execute_result"
    }
   ],
   "source": [
    "shutil.move(os.path.join('tennis-ball-detection-6', 'test'),\n",
    "            os.path.join('tennis-ball-detection-6',\n",
    "                         'tennis-ball-detection-6', 'test'))\n",
    "\n",
    "shutil.move(os.path.join('tennis-ball-detection-6', 'valid'),\n",
    "            os.path.join('tennis-ball-detection-6',\n",
    "                         'tennis-ball-detection-6', 'valid'))\n"
   ]
  },
  {
   "cell_type": "code",
   "execution_count": null,
   "metadata": {},
   "outputs": [],
   "source": [
    "!yolo task=detect mode=train model=yolov5l6u.pt data={dataset.location}/data.yaml epochs=100 imgsz=640"
   ]
  }
 ],
 "metadata": {
  "kernelspec": {
   "display_name": "Python 3",
   "language": "python",
   "name": "python3"
  },
  "language_info": {
   "codemirror_mode": {
    "name": "ipython",
    "version": 3
   },
   "file_extension": ".py",
   "mimetype": "text/x-python",
   "name": "python",
   "nbconvert_exporter": "python",
   "pygments_lexer": "ipython3",
   "version": "3.10.16"
  }
 },
 "nbformat": 4,
 "nbformat_minor": 2
}
